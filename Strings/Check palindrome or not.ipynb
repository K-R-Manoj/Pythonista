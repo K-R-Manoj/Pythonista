{
 "cells": [
  {
   "cell_type": "markdown",
   "metadata": {},
   "source": [
    "## Check palindrome or not"
   ]
  },
  {
   "cell_type": "code",
   "execution_count": 13,
   "metadata": {},
   "outputs": [
    {
     "name": "stdout",
     "output_type": "stream",
     "text": [
      "m\n",
      "om\n",
      "mom\n",
      "palindrome\n"
     ]
    }
   ],
   "source": [
    "## METHOD 1\n",
    "\n",
    "def pal():\n",
    "    s = \"mom\"\n",
    "    z = \"\"\n",
    "    for i in s:\n",
    "        z = i+z\n",
    "        print(z)\n",
    "    if s == z:\n",
    "        print(\"palindrome\")\n",
    "    else:\n",
    "        print(\"not palindrome\")\n",
    "pal()\n",
    "        "
   ]
  },
  {
   "cell_type": "code",
   "execution_count": 9,
   "metadata": {},
   "outputs": [
    {
     "name": "stdout",
     "output_type": "stream",
     "text": [
      "palindrome\n"
     ]
    }
   ],
   "source": [
    "## METHOD 2\n",
    "\n",
    "def pali():\n",
    "    p = \"mkrkm\"\n",
    "    q = \"\".join(reversed(p))\n",
    "    if p == q:\n",
    "        print(\"palindrome\")\n",
    "    else:\n",
    "        print(\"not palindrome\")\n",
    "pali()"
   ]
  },
  {
   "cell_type": "code",
   "execution_count": 12,
   "metadata": {},
   "outputs": [
    {
     "name": "stdout",
     "output_type": "stream",
     "text": [
      "not\n"
     ]
    }
   ],
   "source": [
    "## METHOD 3\n",
    "\n",
    "def p():\n",
    "    x = \"manoj\"\n",
    "    if x == x[::-1]:\n",
    "        print(\"palindrome\")\n",
    "    else:\n",
    "        print(\"not\")\n",
    "p()"
   ]
  }
 ],
 "metadata": {
  "kernelspec": {
   "display_name": "Python 3",
   "language": "python",
   "name": "python3"
  },
  "language_info": {
   "codemirror_mode": {
    "name": "ipython",
    "version": 3
   },
   "file_extension": ".py",
   "mimetype": "text/x-python",
   "name": "python",
   "nbconvert_exporter": "python",
   "pygments_lexer": "ipython3",
   "version": "3.7.3"
  }
 },
 "nbformat": 4,
 "nbformat_minor": 2
}
